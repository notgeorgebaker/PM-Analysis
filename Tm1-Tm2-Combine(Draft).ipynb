{
 "cells": [
  {
   "cell_type": "code",
   "execution_count": 1,
   "id": "fd28af12-4ba4-4894-bd05-1a53c67b2152",
   "metadata": {
    "tags": []
   },
   "outputs": [
    {
     "name": "stderr",
     "output_type": "stream",
     "text": [
      "/home/george/anaconda3/lib/python3.9/site-packages/rpy2/robjects/pandas2ri.py:14: FutureWarning: pandas.core.index is deprecated and will be removed in a future version. The public classes are available in the top-level namespace.\n",
      "  from pandas.core.index import Index as PandasIndex\n"
     ]
    }
   ],
   "source": [
    "import nglview as nv\n",
    "import pandas as pd\n",
    "import numpy as np\n",
    "import MDAnalysis as mda\n",
    "import mdtraj as md\n",
    "import os\n",
    "import scipy\n",
    "import csv\n",
    "\n",
    "import matplotlib.pyplot as plt\n",
    "\n",
    "import rpy2.robjects as robjects\n",
    "from IPython.display import Image\n",
    "\n",
    "%load_ext rpy2.ipython\n",
    "\n",
    "import warnings\n",
    "warnings.filterwarnings ('error', category=DeprecationWarning)"
   ]
  },
  {
   "cell_type": "code",
   "execution_count": 3,
   "id": "be9702b0-441f-462b-8e99-da99ee2c44b2",
   "metadata": {
    "tags": []
   },
   "outputs": [],
   "source": [
    "pdb = \"step5_input.pdb\"\n",
    "\n",
    "psf = \"step5_input.psf\" \n",
    "\n",
    "dcd = \"step7_production.dcd\"\n",
    "\n",
    "#u = mda.Universe (psf , dcd)\n",
    "\n",
    "traj =  md.load(dcd, top = psf)"
   ]
  },
  {
   "cell_type": "markdown",
   "id": "c2b4a60e-7cea-44e2-8735-84a434789ecd",
   "metadata": {},
   "source": [
    "Bellow we will see two 'Cells'. One will correspond to TM1 through both monomers within the EnvZ dimer; the other TM2. Please remove the '#' marks from the TM which you wish to run. \n",
    "\n",
    "Rerun the notebook and alternate the '#' positions when you would like to move between the TMs. (: \n",
    "\n"
   ]
  },
  {
   "cell_type": "code",
   "execution_count": 3,
   "id": "df2cfe9b-e354-401d-89d0-d53f7bb13b85",
   "metadata": {},
   "outputs": [
    {
     "ename": "AttributeError",
     "evalue": "'numpy.ndarray' object has no attribute 'xyz'",
     "output_type": "error",
     "traceback": [
      "\u001b[0;31m---------------------------------------------------------------------------\u001b[0m",
      "\u001b[0;31mAttributeError\u001b[0m                            Traceback (most recent call last)",
      "Input \u001b[0;32mIn [3]\u001b[0m, in \u001b[0;36m<cell line: 17>\u001b[0;34m()\u001b[0m\n\u001b[1;32m     11\u001b[0m proaTraj \u001b[38;5;241m=\u001b[39m traj\u001b[38;5;241m.\u001b[39mtopology\u001b[38;5;241m.\u001b[39mselect(\u001b[38;5;124m'\u001b[39m\u001b[38;5;124mprotein and segname PROA and resid 11 to 41\u001b[39m\u001b[38;5;124m'\u001b[39m)\n\u001b[1;32m     13\u001b[0m probTraj \u001b[38;5;241m=\u001b[39m traj\u001b[38;5;241m.\u001b[39mtopology\u001b[38;5;241m.\u001b[39mselect(\u001b[38;5;124m'\u001b[39m\u001b[38;5;124mprotein and segname PROB and resid 11 to 41\u001b[39m\u001b[38;5;124m'\u001b[39m)\n\u001b[0;32m---> 17\u001b[0m EnvZ_Monomer_A \u001b[38;5;241m=\u001b[39m \u001b[43mmd\u001b[49m\u001b[38;5;241;43m.\u001b[39;49m\u001b[43mrmsd\u001b[49m\u001b[43m(\u001b[49m\u001b[43mproaTraj\u001b[49m\u001b[43m \u001b[49m\u001b[43m,\u001b[49m\u001b[43m \u001b[49m\u001b[43mproaTraj\u001b[49m\u001b[43m,\u001b[49m\u001b[43m \u001b[49m\u001b[38;5;241;43m0\u001b[39;49m\u001b[43m)\u001b[49m\n\u001b[1;32m     18\u001b[0m EnvZ_Monomer_B \u001b[38;5;241m=\u001b[39m md\u001b[38;5;241m.\u001b[39mrmsd(probTraj,  probTraj, \u001b[38;5;241m0\u001b[39m)\n\u001b[1;32m     20\u001b[0m fig1\u001b[38;5;241m=\u001b[39m plt\u001b[38;5;241m.\u001b[39mplot(Global_RMSD, color\u001b[38;5;241m=\u001b[39m\u001b[38;5;124m'\u001b[39m\u001b[38;5;124morange\u001b[39m\u001b[38;5;124m'\u001b[39m, label\u001b[38;5;241m=\u001b[39m\u001b[38;5;124m'\u001b[39m\u001b[38;5;124mGlobal\u001b[39m\u001b[38;5;124m'\u001b[39m)\n",
      "File \u001b[0;32mmdtraj/rmsd/_rmsd.pyx:154\u001b[0m, in \u001b[0;36mmdtraj._rmsd.rmsd\u001b[0;34m()\u001b[0m\n",
      "\u001b[0;31mAttributeError\u001b[0m: 'numpy.ndarray' object has no attribute 'xyz'"
     ]
    }
   ],
   "source": [
    "\n",
    "# FOR TM1 PLEASE RUN THIS CELL\n",
    "\n",
    "\n",
    "proa = u.select_atoms (\"protein and segid PROA and resid 11 : 41\")\n",
    "\n",
    "prob = u.select_atoms (\"protein and segid PROB and resid 11 : 41\")\n",
    "\n",
    "output_csv_file = 'TM1_Replicate_1_Inter_Residue_Distances.csv'\n",
    "\n",
    "\n",
    "proaTraj = traj.topology.select('protein and segname PROA and resid 11 to 41')\n",
    "\n",
    "probTraj = traj.topology.select('protein and segname PROB and resid 11 to 41')\n",
    "\n",
    "\n",
    "\n",
    "EnvZ_Monomer_A = md.rmsd(proaTraj , proaTraj, 0)\n",
    "EnvZ_Monomer_B = md.rmsd(probTraj,  probTraj, 0)\n",
    "\n",
    "fig1= plt.plot(Global_RMSD, color='orange', label='Global')\n",
    "plt.plot(EnvZ_Monomer_A, color='brown', label='Monomer A')\n",
    "plt.plot(EnvZ_Monomer_B, color='red', label='Monomer B')\n",
    "\n",
    "plt.xlabel('Time (ns)')\n",
    "plt.ylabel('RMSD (nm)')\n",
    "plt.title('RMSD of EnvZ. Monomers and Global')\n",
    "\n",
    "plt.legend(loc='lower right')"
   ]
  },
  {
   "cell_type": "code",
   "execution_count": 1,
   "id": "ba12c480-32aa-49f0-b4bb-cc4857ed8640",
   "metadata": {},
   "outputs": [
    {
     "ename": "NameError",
     "evalue": "name 'dcd' is not defined",
     "output_type": "error",
     "traceback": [
      "\u001b[0;31m---------------------------------------------------------------------------\u001b[0m",
      "\u001b[0;31mNameError\u001b[0m                                 Traceback (most recent call last)",
      "Input \u001b[0;32mIn [1]\u001b[0m, in \u001b[0;36m<cell line: 6>\u001b[0;34m()\u001b[0m\n\u001b[1;32m      3\u001b[0m \u001b[38;5;28;01mimport\u001b[39;00m \u001b[38;5;21;01mmatplotlib\u001b[39;00m\u001b[38;5;21;01m.\u001b[39;00m\u001b[38;5;21;01mpyplot\u001b[39;00m \u001b[38;5;28;01mas\u001b[39;00m \u001b[38;5;21;01mplt\u001b[39;00m\n\u001b[1;32m      5\u001b[0m \u001b[38;5;66;03m# Load the trajectory and topology\u001b[39;00m\n\u001b[0;32m----> 6\u001b[0m traj \u001b[38;5;241m=\u001b[39m md\u001b[38;5;241m.\u001b[39mload(\u001b[43mdcd\u001b[49m, top\u001b[38;5;241m=\u001b[39mpdb)\n\u001b[1;32m      8\u001b[0m \u001b[38;5;66;03m# Get the atom indices for the selections\u001b[39;00m\n\u001b[1;32m      9\u001b[0m proa_indices \u001b[38;5;241m=\u001b[39m traj\u001b[38;5;241m.\u001b[39mtopology\u001b[38;5;241m.\u001b[39mselect(\u001b[38;5;124m'\u001b[39m\u001b[38;5;124mprotein and segname PROA and resid 11 to 41\u001b[39m\u001b[38;5;124m'\u001b[39m)\n",
      "\u001b[0;31mNameError\u001b[0m: name 'dcd' is not defined"
     ]
    }
   ],
   "source": [
    "import mdtraj as md\n",
    "import numpy as np\n",
    "import matplotlib.pyplot as plt\n",
    "\n",
    "# Load the trajectory and topology\n",
    "traj = md.load(dcd, top=pdb)\n",
    "\n",
    "# Get the atom indices for the selections\n",
    "proa_indices = traj.topology.select('protein and segname PROA and resid 11 to 41')\n",
    "prob_indices = traj.topology.select('protein and segname PROB and resid 11 to 41')\n",
    "\n",
    "# Calculate RMSD for the whole system\n",
    "Global_RMSD = md.rmsd(traj, traj, 0)\n",
    "\n",
    "# Calculate RMSD for Monomer A\n",
    "EnvZ_Monomer_A = md.rmsd(traj, traj, 0, atom_indices=proa_indices)\n",
    "\n",
    "# Calculate RMSD for Monomer B\n",
    "EnvZ_Monomer_B = md.rmsd(traj, traj, 0, atom_indices=prob_indices)\n",
    "\n",
    "# Plot RMSD\n",
    "fig1 = plt.figure(figsize=(10, 6))\n",
    "plt.plot(Global_RMSD, color='orange', label='Global')\n",
    "plt.plot(EnvZ_Monomer_A, color='brown', label='Monomer A')\n",
    "plt.plot(EnvZ_Monomer_B, color='red', label='Monomer B')\n",
    "\n",
    "plt.xlabel('Time (ns)')\n",
    "plt.ylabel('RMSD (nm)')\n",
    "plt.title('RMSD of EnvZ Monomers and Global')\n",
    "\n",
    "plt.legend(loc='lower right')\n",
    "plt.show()\n"
   ]
  },
  {
   "cell_type": "code",
   "execution_count": null,
   "id": "3ccce99b-c7cf-447d-9313-c1dee2d8784b",
   "metadata": {},
   "outputs": [],
   "source": [
    "\n",
    "# FOR TM2 PLEASE RUN THIS CELL\n",
    "\n",
    "#proa = u.select_atoms (\"protein and segid PROA and resid 156 : 183\")\n",
    "\n",
    "#prob = u.select_atoms (\"protein and segid PROB and resid 156 : 183\")\n",
    "\n",
    "#output_csv_file = 'TM2_Replicate_1_Inter_Residue_Distances.csv'"
   ]
  },
  {
   "cell_type": "code",
   "execution_count": null,
   "id": "2fb41c78-3e23-4732-9aac-440c47169f85",
   "metadata": {},
   "outputs": [],
   "source": [
    "frames = len(u.trajectory)\n",
    "residues = len(proa)\n",
    "distances = np.zeros((frames, residues))\n",
    "time_step_ps = u.trajectory.dt"
   ]
  },
  {
   "cell_type": "code",
   "execution_count": null,
   "id": "81f10b5c-ad66-4cb1-a6d7-391503b3c119",
   "metadata": {},
   "outputs": [],
   "source": [
    "for idx, ts in enumerate(u.trajectory):\n",
    "    for i in range(residues):\n",
    "        distance = np.linalg.norm(proa.positions[i] - prob.positions[i])\n",
    "        distances[idx, i] = distance"
   ]
  },
  {
   "cell_type": "code",
   "execution_count": null,
   "id": "bba53371-a7ef-48c0-b6b0-2022c20120db",
   "metadata": {},
   "outputs": [],
   "source": [
    "with open(output_csv_file, 'w', newline='') as csvfile:\n",
    "    csvwriter = csv.writer(csvfile)\n",
    "    \n",
    "    \n",
    "    header = ['Time (ps)'] + [f'Residue {i + 11}' for i in range(residues)]\n",
    "    csvwriter.writerow(header)\n",
    "    \n",
    "    for idx in range(frames):\n",
    "        row = [idx * time_step_ps] + list(distances[idx])\n",
    "        csvwriter.writerow(row)"
   ]
  },
  {
   "cell_type": "code",
   "execution_count": null,
   "id": "ebb4bbbb-29d1-41c4-b803-fa3feed97712",
   "metadata": {
    "tags": []
   },
   "outputs": [],
   "source": [
    "r_code = \"\"\"\n",
    "library(ggplot2)\n",
    "library(reshape2)\n",
    "library(repr)\n",
    "\n",
    "data <- read.csv('TM1_Replicate_1_Inter_Residue_Distances.csv')\n",
    "\n",
    "residues <- 11:41\n",
    "data <- data[, c('Time..ps.', paste0('Residue.', residues))]\n",
    "\n",
    "melted_data <- melt(data, id.vars = 'Time..ps.')\n",
    "\n",
    "box_plot <- ggplot(melted_data, aes(x = variable, y = value)) +\n",
    "  geom_boxplot() +\n",
    "  labs(x = 'Residue', y = 'Inter-Residue Distance (Å)',\n",
    "       title = 'Inter residue distance of the TM1 domain within an EnvZ Homodimer') +\n",
    "  theme(axis.text.x = element_text(angle = 45, hjust = 1))\n",
    "\n",
    "options(repr.plot.width=10, repr.plot.height=6)\n",
    "\n",
    "plot_path <- 'box_plot.png'\n",
    "ggsave(plot_path, plot=box_plot, width=10, height=6)\n",
    "plot_path\n",
    "\"\"\"\n",
    "\n",
    "output = robjects.r(r_code)\n",
    "plot_path = output[0]\n",
    "Image(filename=plot_path)\n"
   ]
  },
  {
   "cell_type": "code",
   "execution_count": null,
   "id": "59607b31-545b-4bca-9917-61cf8fc55042",
   "metadata": {},
   "outputs": [],
   "source": [
    "r_code = \"\"\"\n",
    "library(ggplot2)\n",
    "library(reshape2)\n",
    "library(repr)\n",
    "\n",
    "data <- read.csv('TM1_Replicate_1_Inter_Residue_Distances.csv')\n",
    "\n",
    "residues <- 11:41\n",
    "data <- data[, c('Time..ps.', paste0('Residue.', residues))]\n",
    "\n",
    "melted_data <- melt(data, id.vars = 'Time..ps.')\n",
    "\n",
    "box_plot <- ggplot(melted_data, aes(x = variable, y = value, fill = variable)) +\n",
    "  geom_boxplot() +\n",
    "  labs(x = 'Residue', y = 'Inter-Residue Distance (Å)',\n",
    "       title = 'Inter residue distance of the TM1 domain within an EnvZ Homodimer') +\n",
    "  theme(axis.text.x = element_text(angle = 45, hjust = 1)) +\n",
    "  guides(fill = FALSE)\n",
    "\n",
    "options(repr.plot.width=10, repr.plot.height=6)\n",
    "\n",
    "plot_path <- 'box_plot.png'\n",
    "ggsave(plot_path, plot=box_plot, width=10, height=6)\n",
    "plot_path\n",
    "\"\"\"\n",
    "\n",
    "output = robjects.r(r_code)\n",
    "plot_path = output[0]\n",
    "Image(filename=plot_path)\n"
   ]
  },
  {
   "cell_type": "code",
   "execution_count": null,
   "id": "5a228f26-b62b-467a-bb0e-de8ca30de907",
   "metadata": {},
   "outputs": [],
   "source": [
    "r_code = \"\"\"\n",
    "library(ggplot2)\n",
    "library(reshape2)\n",
    "library(repr)\n",
    "\n",
    "data <- read.csv('TM2_Replicate_1_Inter_Residue_Distances.csv')\n",
    "\n",
    "residues <- 156:183\n",
    "data <- data[, c('Time..ps.', paste0('Residue.', residues))]\n",
    "\n",
    "melted_data <- melt(data, id.vars = 'Time..ps.')\n",
    "\n",
    "box_plot <- ggplot(melted_data, aes(x = variable, y = value)) +\n",
    "  geom_boxplot() +\n",
    "  labs(x = 'Residue', y = 'Inter-Residue Distance (Å)',\n",
    "       title = 'Box Plot of Inter-Residue Distances between PROA and PROB Residues') +\n",
    "  theme(axis.text.x = element_text(angle = 45, hjust = 1))\n",
    "\n",
    "options(repr.plot.width=10, repr.plot.height=6)\n",
    "\n",
    "plot_path <- 'box_plot.png'\n",
    "ggsave(plot_path, plot=box_plot, width=10, height=6)\n",
    "plot_path\n",
    "\"\"\"\n",
    "\n",
    "output = robjects.r(r_code)\n",
    "plot_path = output[0]\n",
    "Image(filename=plot_path)\n"
   ]
  },
  {
   "cell_type": "code",
   "execution_count": null,
   "id": "c6a8958c-2ab6-4028-b920-69d252b16fdf",
   "metadata": {},
   "outputs": [],
   "source": [
    "r_code = \"\"\"\n",
    "library(ggplot2)\n",
    "library(reshape2)\n",
    "library(repr)\n",
    "\n",
    "data <- read.csv('TM2_Replicate_1_Inter_Residue_Distances.csv')\n",
    "\n",
    "residues <- 156:183\n",
    "data <- data[, c('Time..ps.', paste0('Residue.', residues))]\n",
    "\n",
    "melted_data <- melt(data, id.vars = 'Time..ps.')\n",
    "\n",
    "box_plot <- ggplot(melted_data, aes(x = variable, y = value, fill = variable)) +\n",
    "  geom_boxplot() +\n",
    "  labs(x = 'Residue', y = 'Inter-Residue Distance (Å)',\n",
    "       title = 'Inter residue distance of the TM2 domain within an EnvZ Homodimer') +\n",
    "  theme(axis.text.x = element_text(angle = 45, hjust = 1)) +\n",
    "  guides(fill = FALSE)\n",
    "\n",
    "options(repr.plot.width=10, repr.plot.height=6)\n",
    "\n",
    "plot_path <- 'box_plot.png'\n",
    "ggsave(plot_path, plot=box_plot, width=10, height=6)\n",
    "plot_path\n",
    "\"\"\"\n",
    "\n",
    "output = robjects.r(r_code)\n",
    "plot_path = output[0]\n",
    "Image(filename=plot_path)\n"
   ]
  }
 ],
 "metadata": {
  "kernelspec": {
   "display_name": "Python 3 (ipykernel)",
   "language": "python",
   "name": "python3"
  },
  "language_info": {
   "codemirror_mode": {
    "name": "ipython",
    "version": 3
   },
   "file_extension": ".py",
   "mimetype": "text/x-python",
   "name": "python",
   "nbconvert_exporter": "python",
   "pygments_lexer": "ipython3",
   "version": "3.9.12"
  }
 },
 "nbformat": 4,
 "nbformat_minor": 5
}
